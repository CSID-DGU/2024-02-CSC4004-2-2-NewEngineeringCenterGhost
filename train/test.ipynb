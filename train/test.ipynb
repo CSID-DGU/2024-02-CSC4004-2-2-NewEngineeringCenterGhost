{
 "cells": [
  {
   "cell_type": "code",
   "execution_count": 6,
   "metadata": {},
   "outputs": [
    {
     "name": "stdout",
     "output_type": "stream",
     "text": [
      "                                             content  label\n",
      "0  CLS '친환경 금융 목표'…'탄소중립' 실천 나선 금융업계  SEP \"사죄한다.\"...      1\n",
      "1  CLS LG생활건강, 사상 최대 실적에도 주가 반등은 '글쎄'  SEP 한국기업지배...      1\n",
      "2  CLS 한숨만 쉬는 유통업계, 매출 얼마나 줄었나 봤더니…  SEP 런던 현지 시각...      1\n",
      "3  CLS 무협 \"IPEF, 공급망 및 무역투자처 확보 수단으로 활용해야\"  SEP 한...      1\n",
      "4  CLS KB국민은행, '기업 고객 맞춤형' 디지털 금융서비스 개편  SEP 한국교직...      1\n"
     ]
    }
   ],
   "source": [
    "import pandas as pd\n",
    "\n",
    "# Load the data\n",
    "dataset_dir = \"data/data.jsonl\"\n",
    "df = pd.read_json(dataset_dir, lines=True)\n",
    "df = df.drop_duplicates()\n",
    "\n",
    "print(df.head())"
   ]
  },
  {
   "cell_type": "code",
   "execution_count": 7,
   "metadata": {},
   "outputs": [
    {
     "name": "stdout",
     "output_type": "stream",
     "text": [
      "549211\n"
     ]
    }
   ],
   "source": [
    "print(len(df))"
   ]
  }
 ],
 "metadata": {
  "kernelspec": {
   "display_name": "Python 3",
   "language": "python",
   "name": "python3"
  },
  "language_info": {
   "codemirror_mode": {
    "name": "ipython",
    "version": 3
   },
   "file_extension": ".py",
   "mimetype": "text/x-python",
   "name": "python",
   "nbconvert_exporter": "python",
   "pygments_lexer": "ipython3",
   "version": "3.11.10"
  }
 },
 "nbformat": 4,
 "nbformat_minor": 2
}
